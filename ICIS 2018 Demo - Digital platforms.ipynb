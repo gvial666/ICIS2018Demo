{
 "cells": [
  {
   "cell_type": "markdown",
   "metadata": {},
   "source": [
    "# ICIS 2018 python demo\n",
    "\n",
    "In the following cell, we import various libraries that are required to perform operations.\n",
    "- __requests__: performs http requests\n",
    "- __json__: processes json documents\n",
    "- __pandas__: data frame manipulation library. According to the pandas library, a data frame is \"a 2-dimensional labeled data structure with columns of potentially different types. You can think of it like a spreadsheet or SQL table.\"\n",
    "- __numpy__: numerical library used for the pandas data frame\n",
    "- __pyplot__ and __seaborn__: visualization libraries"
   ]
  },
  {
   "cell_type": "code",
   "execution_count": null,
   "metadata": {},
   "outputs": [],
   "source": [
    "import requests\n",
    "import json\n",
    "import pandas as pd\n",
    "import numpy as np\n",
    "import matplotlib.pyplot as plt\n",
    "import seaborn as sns"
   ]
  },
  {
   "cell_type": "markdown",
   "metadata": {},
   "source": [
    "This function takes a parameter, a url, and returns the response from an http call.\n",
    "Here we do not  include an api token but in a real enterprise setting, you would need one to access GitHub remotely.\n",
    "More information on: https://blog.github.com/2013-05-16-personal-api-tokens/"
   ]
  },
  {
   "cell_type": "code",
   "execution_count": null,
   "metadata": {},
   "outputs": [],
   "source": [
    "def make_http_call(url):\n",
    "    r = requests.get(url = url)\n",
    "    return r"
   ]
  },
  {
   "cell_type": "markdown",
   "metadata": {},
   "source": [
    "## Main program\n",
    "\n",
    "### Search query\n",
    "We start by forming and performing a search query for GitHub. Search criteria:\n",
    "- Repositories written in python \n",
    "- Repositories that are not archived\n",
    "\n",
    "We sort the results by number of stars (popularity) in descending order.\n",
    "\n",
    "### Creating the project data frame\n",
    "Next, we retrieve the results (in json format) and create a data frame with the following fields:\n",
    "- project id\n",
    "- project name\n",
    "- star count\n",
    "- fork count\n",
    "- watchers count\n",
    "\n",
    "### Displaying the resulting data frame\n",
    "Finally, we display the contents of our data frame"
   ]
  },
  {
   "cell_type": "code",
   "execution_count": null,
   "metadata": {},
   "outputs": [],
   "source": [
    "# here we retrieve projects/repositories based on their ratings (number of stars)\n",
    "# see https://developer.github.com/v3/search/\n",
    "search_query = 'https://api.github.com/search/repositories?q=language%3Apython+archived%3Afalse&sort=stars&order=desc'\n",
    "\n",
    "# send the call to github\n",
    "response = make_http_call(search_query)\n",
    "\n",
    "# retrieve the response and load it as json\n",
    "response_json = json.loads(response.text)\n",
    "\n",
    "projects = pd.DataFrame(columns = ['project_id','project_name','star_count',\\\n",
    "                                   'fork_count','watch_count',\\\n",
    "                                  ],dtype = np.int)\n",
    "\n",
    "# each project info is added into a master set\n",
    "# by default, GitHub returns 30 items per page\n",
    "# to retrieve more than 30 results, we would need\n",
    "# to handle pagination: https://developer.github.com/v3/guides/traversing-with-pagination/\n",
    "for item in response_json['items']:\n",
    "    # stars\n",
    "    star_count = item['stargazers_count']\n",
    "    # watch\n",
    "    watch_count = item['watchers_count']\n",
    "    # forks\n",
    "    fork_count = item['forks_count']\n",
    "\n",
    "    # append to data frame\n",
    "    projects=projects.append({'project_id' : item['id'], 'project_name' : item['name'], \\\n",
    "                            'star_count' : star_count, 'fork_count' : fork_count, \\\n",
    "                             'watch_count' : watch_count}, ignore_index = True)\n",
    "    \n",
    "# output the list\n",
    "projects"
   ]
  },
  {
   "cell_type": "markdown",
   "metadata": {},
   "source": [
    "Now we use the describe() function of the data frame to provide descriptive statistics"
   ]
  },
  {
   "cell_type": "code",
   "execution_count": null,
   "metadata": {},
   "outputs": [],
   "source": [
    "projects.describe()"
   ]
  },
  {
   "cell_type": "code",
   "execution_count": null,
   "metadata": {},
   "outputs": [],
   "source": [
    "projects.loc[projects['fork_count'].idxmax()]"
   ]
  },
  {
   "cell_type": "markdown",
   "metadata": {},
   "source": [
    "Finally, we use the scatterplot() function from the seaborn library to display two scatterplots:\n",
    "- the first plots watchers count against stars count\n",
    "- the second plots forks count against stars count"
   ]
  },
  {
   "cell_type": "code",
   "execution_count": null,
   "metadata": {},
   "outputs": [],
   "source": [
    "sns.scatterplot(x=\"watch_count\", y=\"star_count\", data=projects)\n",
    "plt.show()"
   ]
  },
  {
   "cell_type": "code",
   "execution_count": null,
   "metadata": {},
   "outputs": [],
   "source": [
    "sns.scatterplot(x=\"fork_count\", y=\"star_count\", data=projects)\n",
    "plt.show()"
   ]
  },
  {
   "cell_type": "markdown",
   "metadata": {},
   "source": [
    "# End of demo. Thank you!"
   ]
  }
 ],
 "metadata": {
  "kernelspec": {
   "display_name": "Python 3",
   "language": "python",
   "name": "python3"
  },
  "language_info": {
   "codemirror_mode": {
    "name": "ipython",
    "version": 3
   },
   "file_extension": ".py",
   "mimetype": "text/x-python",
   "name": "python",
   "nbconvert_exporter": "python",
   "pygments_lexer": "ipython3",
   "version": "3.6.3"
  }
 },
 "nbformat": 4,
 "nbformat_minor": 2
}
